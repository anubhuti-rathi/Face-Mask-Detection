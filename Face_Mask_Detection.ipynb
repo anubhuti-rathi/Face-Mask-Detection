{
  "nbformat": 4,
  "nbformat_minor": 0,
  "metadata": {
    "colab": {
      "name": "Face Mask Detection.ipynb",
      "provenance": []
    },
    "kernelspec": {
      "name": "python3",
      "display_name": "Python 3"
    },
    "language_info": {
      "name": "python"
    }
  },
  "cells": [
    {
      "cell_type": "code",
      "metadata": {
        "id": "zh9kpN-dxMGg"
      },
      "source": [
        "import tensorflow as tf\n",
        "import keras\n",
        "from tensorflow.keras.preprocessing.image import ImageDataGenerator\n",
        "from tensorflow.keras.applications import MobileNetV2\n",
        "from tensorflow.keras.models import Model\n",
        "from tensorflow.keras.optimizers import Adam\n",
        "from tensorflow.keras.applications.mobilenet_v2 import preprocess_input\n",
        "from tensorflow.keras.preprocessing.image import img_to_array\n",
        "from tensorflow.keras.preprocessing.image import load_img\n",
        "from tensorflow.keras.utils import to_categorical\n",
        "from sklearn.preprocessing import LabelBinarizer\n",
        "from sklearn.model_selection import train_test_split\n",
        "from sklearn.metrics import classification_report\n",
        "from imutils import paths\n",
        "import matplotlib.pyplot as plt\n",
        "import numpy as np\n",
        "import os"
      ],
      "execution_count": null,
      "outputs": []
    },
    {
      "cell_type": "code",
      "metadata": {
        "id": "Li0fF8pXxoqI"
      },
      "source": [
        "#learning rate\n",
        "init_lr = 1e-4  \n",
        "epochs = 20\n",
        "bs = 32"
      ],
      "execution_count": null,
      "outputs": []
    },
    {
      "cell_type": "code",
      "metadata": {
        "id": "yTO7obyExzGl"
      },
      "source": [
        "#Loading and pre-processing our training data\n",
        "imagePaths_mask = []\n",
        "imagePaths_nomask = []\n",
        "\n",
        "for filename in os.listdir(\"/content/drive/MyDrive/mesked_dataset/Dataset/train/train/with_mask\"):\n",
        "  imagePaths_mask.append(filename)\n",
        "for filename in os.listdir(\"/content/drive/MyDrive/mesked_dataset/Dataset/train/train/without_mask\"):\n",
        "  imagePaths_nomask.append(filename)"
      ],
      "execution_count": null,
      "outputs": []
    },
    {
      "cell_type": "code",
      "metadata": {
        "id": "jGa6JhmoyDjW"
      },
      "source": [
        "data = []\n",
        "labels = []\n",
        "\n",
        "for img in imagePaths_mask:\n",
        "\n",
        "  label = 'with_mask'\n",
        "  #Loads an image into PIL format.\n",
        "  image = load_img(\"/content/drive/MyDrive/mesked_dataset/Dataset/train/train/with_mask/\"+img, target_size=(224,224))\n",
        "  #Converts a PIL Image instance to a Numpy array.\n",
        "  image = img_to_array(image)\n",
        "  #pre_process input according to model's parameter\n",
        "  image = preprocess_input(image)\n",
        "\n",
        "  data.append(image)\n",
        "  labels.append(label)"
      ],
      "execution_count": null,
      "outputs": []
    },
    {
      "cell_type": "code",
      "metadata": {
        "colab": {
          "base_uri": "https://localhost:8080/"
        },
        "id": "sLPYuttbySmI",
        "outputId": "a2ec352e-3060-4603-de30-8e8c8108ed62"
      },
      "source": [
        "for img in imagePaths_nomask:\n",
        "\n",
        "  label = 'without_mask'\n",
        "\n",
        "  image = load_img(\"/content/drive/MyDrive/mesked_dataset/Dataset/train/train/without_mask/\"+img, target_size=(224,224))\n",
        "  image = img_to_array(image)\n",
        "  image = preprocess_input(image)\n",
        "\n",
        "  data.append(image)\n",
        "  labels.append(label)\n",
        "print(\"ok\")"
      ],
      "execution_count": null,
      "outputs": [
        {
          "output_type": "stream",
          "text": [
            "ok\n"
          ],
          "name": "stdout"
        }
      ]
    },
    {
      "cell_type": "code",
      "metadata": {
        "id": "fqB20yVWy6L4"
      },
      "source": [
        "# convert the data and labels to NumPy arrays\n",
        "data = np.array(data, dtype=\"float32\")\n",
        "labels = np.array(labels)"
      ],
      "execution_count": null,
      "outputs": []
    },
    {
      "cell_type": "code",
      "metadata": {
        "colab": {
          "base_uri": "https://localhost:8080/"
        },
        "id": "lhTvHGe-Sy_5",
        "outputId": "9243c069-f753-40b5-ccd6-70a9916b2e1d"
      },
      "source": [
        "print(labels)"
      ],
      "execution_count": null,
      "outputs": [
        {
          "output_type": "stream",
          "text": [
            "['with_mask' 'with_mask' 'with_mask' ... 'without_mask' 'without_mask'\n",
            " 'without_mask']\n"
          ],
          "name": "stdout"
        }
      ]
    },
    {
      "cell_type": "code",
      "metadata": {
        "colab": {
          "base_uri": "https://localhost:8080/"
        },
        "id": "Q9qy7UuAzcEg",
        "outputId": "d25aae22-b6aa-4399-91f5-94b5625cd639"
      },
      "source": [
        "#encoding our lables to 0's and 1;s\n",
        "lb = LabelBinarizer()\n",
        "labels = lb.fit_transform(labels)\n",
        "print(\"Text categories in number form: \\n\",labels)\n",
        "#Converting a class vector to binary class matrix\n",
        "labels = to_categorical(labels)\n",
        "print(\"One Hot Encoding: \\n\",labels)\n",
        "\n",
        "labels.shape"
      ],
      "execution_count": null,
      "outputs": [
        {
          "output_type": "stream",
          "text": [
            "Text categories in number form: \n",
            " [[0]\n",
            " [0]\n",
            " [0]\n",
            " ...\n",
            " [1]\n",
            " [1]\n",
            " [1]]\n",
            "One Hot Encoding: \n",
            " [[1. 0.]\n",
            " [1. 0.]\n",
            " [1. 0.]\n",
            " ...\n",
            " [0. 1.]\n",
            " [0. 1.]\n",
            " [0. 1.]]\n"
          ],
          "name": "stdout"
        },
        {
          "output_type": "execute_result",
          "data": {
            "text/plain": [
              "(1315, 2)"
            ]
          },
          "metadata": {
            "tags": []
          },
          "execution_count": 9
        }
      ]
    },
    {
      "cell_type": "code",
      "metadata": {
        "colab": {
          "base_uri": "https://localhost:8080/",
          "height": 323
        },
        "id": "EleHR9NlzfPx",
        "outputId": "3cddcc1a-2cf3-4f13-eab3-76ad502a53b3"
      },
      "source": [
        "plt.imshow(data[0])"
      ],
      "execution_count": null,
      "outputs": [
        {
          "output_type": "stream",
          "text": [
            "Clipping input data to the valid range for imshow with RGB data ([0..1] for floats or [0..255] for integers).\n"
          ],
          "name": "stderr"
        },
        {
          "output_type": "execute_result",
          "data": {
            "text/plain": [
              "<matplotlib.image.AxesImage at 0x7f4c7e32fe10>"
            ]
          },
          "metadata": {
            "tags": []
          },
          "execution_count": 10
        },
        {
          "output_type": "display_data",
          "data": {
            "image/png": "[encoded data removed]",
            "text/plain": [
              "<Figure size 432x288 with 1 Axes>"
            ]
          },
          "metadata": {
            "tags": [],
            "needs_background": "light"
          }
        }
      ]
    },
    {
      "cell_type": "code",
      "metadata": {
        "id": "vdsyBCzNzr7v"
      },
      "source": [
        "#Splitting Training and Testing Data\n",
        "(train_x,test_x,train_y,test_y) = train_test_split(data, labels, test_size = 0.20, stratify = labels, random_state = 42)\n"
      ],
      "execution_count": null,
      "outputs": []
    },
    {
      "cell_type": "code",
      "metadata": {
        "id": "3-wFc4Yuzxxi"
      },
      "source": [
        "# Initialising train_generator for data augmentation\n",
        "train_generator = ImageDataGenerator(\n",
        "                    rotation_range = 20,\n",
        "                    zoom_range = 0.15,\n",
        "                    width_shift_range = 0.2,\n",
        "                    height_shift_range = 0.2,\n",
        "                    shear_range = 0.15,\n",
        "                    horizontal_flip = True,\n",
        "                    fill_mode=\"nearest\"\n",
        "                  )"
      ],
      "execution_count": null,
      "outputs": []
    },
    {
      "cell_type": "code",
      "metadata": {
        "colab": {
          "base_uri": "https://localhost:8080/"
        },
        "id": "T9LV1l8Mz1bk",
        "outputId": "c574abff-4d40-456e-e6c3-023f45cee747"
      },
      "source": [
        "# Using MobileNetV2 as the base model and Fine Tuning it\n",
        "baseModel = MobileNetV2(input_tensor = tf.keras.layers.Input(shape = (224,224,3)),include_top = False, weights = 'imagenet')"
      ],
      "execution_count": null,
      "outputs": [
        {
          "output_type": "stream",
          "text": [
            "WARNING:tensorflow:`input_shape` is undefined or non-square, or `rows` is not in [96, 128, 160, 192, 224]. Weights for input shape (224, 224) will be loaded as the default.\n",
            "Downloading data from https://storage.googleapis.com/tensorflow/keras-applications/mobilenet_v2/mobilenet_v2_weights_tf_dim_ordering_tf_kernels_1.0_224_no_top.h5\n",
            "9412608/9406464 [==============================] - 0s 0us/step\n"
          ],
          "name": "stdout"
        }
      ]
    },
    {
      "cell_type": "code",
      "metadata": {
        "id": "14GC-JZ1z9MQ"
      },
      "source": [
        "#1.   Load MobileNet with pre-trained ImageNet weights, leaving off head of network.\n",
        "#2.   Construct a new FC head, and append it to the base in place of the old head.\n",
        "#3.   Freeze the base layers of the network. The weights of these base layers will not be updated during the process of backpropagation, whereas the head layer weights will be tuned.\n",
        "baseModel\n",
        "\n",
        "baseModel.output          \n",
        "\n",
        "headModel = baseModel.output              \n",
        "headModel = tf.keras.layers.AveragePooling2D(pool_size = (7,7))(headModel)\n",
        "headModel = tf.keras.layers.Flatten()(headModel)\n",
        "headModel = tf.keras.layers.Dense(128, activation = 'relu')(headModel)\n",
        "headModel = tf.keras.layers.Dropout(0.5)(headModel)\n",
        "headModel = tf.keras.layers.Dense(2, activation = 'softmax')(headModel)\n"
      ],
      "execution_count": null,
      "outputs": []
    },
    {
      "cell_type": "code",
      "metadata": {
        "id": "D_bvFowf0AML"
      },
      "source": [
        "model = tf.keras.models.Model(inputs = baseModel.input, outputs = headModel)"
      ],
      "execution_count": null,
      "outputs": []
    },
    {
      "cell_type": "code",
      "metadata": {
        "colab": {
          "base_uri": "https://localhost:8080/"
        },
        "id": "gr_neXSRZ8Uw",
        "outputId": "c6b38098-7c2b-4378-cd34-658183b69d9c"
      },
      "source": [
        "baseModel.summary()"
      ],
      "execution_count": null,
      "outputs": [
        {
          "output_type": "stream",
          "text": [
            "Model: \"mobilenetv2_1.00_224\"\n",
            "__________________________________________________________________________________________________\n",
            "Layer (type)                    Output Shape         Param #     Connected to                     \n",
            "==================================================================================================\n",
            "input_1 (InputLayer)            [(None, 224, 224, 3) 0                                            \n",
            "__________________________________________________________________________________________________\n",
            "Conv1 (Conv2D)                  (None, 112, 112, 32) 864         input_1[0][0]                    \n",
            "__________________________________________________________________________________________________\n",
            "bn_Conv1 (BatchNormalization)   (None, 112, 112, 32) 128         Conv1[0][0]                      \n",
            "__________________________________________________________________________________________________\n",
            "Conv1_relu (ReLU)               (None, 112, 112, 32) 0           bn_Conv1[0][0]                   \n",
            "__________________________________________________________________________________________________\n",
            "expanded_conv_depthwise (Depthw (None, 112, 112, 32) 288         Conv1_relu[0][0]                 \n",
            "__________________________________________________________________________________________________\n",
            "expanded_conv_depthwise_BN (Bat (None, 112, 112, 32) 128         expanded_conv_depthwise[0][0]    \n",
            "__________________________________________________________________________________________________\n",
            "expanded_conv_depthwise_relu (R (None, 112, 112, 32) 0           expanded_conv_depthwise_BN[0][0] \n",
            "__________________________________________________________________________________________________\n",
            "expanded_conv_project (Conv2D)  (None, 112, 112, 16) 512         expanded_conv_depthwise_relu[0][0\n",
            "__________________________________________________________________________________________________\n",
            "expanded_conv_project_BN (Batch (None, 112, 112, 16) 64          expanded_conv_project[0][0]      \n",
            "__________________________________________________________________________________________________\n",
            "block_1_expand (Conv2D)         (None, 112, 112, 96) 1536        expanded_conv_project_BN[0][0]   \n",
            "__________________________________________________________________________________________________\n",
            "block_1_expand_BN (BatchNormali (None, 112, 112, 96) 384         block_1_expand[0][0]             \n",
            "__________________________________________________________________________________________________\n",
            "block_1_expand_relu (ReLU)      (None, 112, 112, 96) 0           block_1_expand_BN[0][0]          \n",
            "__________________________________________________________________________________________________\n",
            "block_1_pad (ZeroPadding2D)     (None, 113, 113, 96) 0           block_1_expand_relu[0][0]        \n",
            "__________________________________________________________________________________________________\n",
            "block_1_depthwise (DepthwiseCon (None, 56, 56, 96)   864         block_1_pad[0][0]                \n",
            "__________________________________________________________________________________________________\n",
            "block_1_depthwise_BN (BatchNorm (None, 56, 56, 96)   384         block_1_depthwise[0][0]          \n",
            "__________________________________________________________________________________________________\n",
            "block_1_depthwise_relu (ReLU)   (None, 56, 56, 96)   0           block_1_depthwise_BN[0][0]       \n",
            "__________________________________________________________________________________________________\n",
            "block_1_project (Conv2D)        (None, 56, 56, 24)   2304        block_1_depthwise_relu[0][0]     \n",
            "__________________________________________________________________________________________________\n",
            "block_1_project_BN (BatchNormal (None, 56, 56, 24)   96          block_1_project[0][0]            \n",
            "__________________________________________________________________________________________________\n",
            "block_2_expand (Conv2D)         (None, 56, 56, 144)  3456        block_1_project_BN[0][0]         \n",
            "__________________________________________________________________________________________________\n",
            "block_2_expand_BN (BatchNormali (None, 56, 56, 144)  576         block_2_expand[0][0]             \n",
            "__________________________________________________________________________________________________\n",
            "block_2_expand_relu (ReLU)      (None, 56, 56, 144)  0           block_2_expand_BN[0][0]          \n",
            "__________________________________________________________________________________________________\n",
            "block_2_depthwise (DepthwiseCon (None, 56, 56, 144)  1296        block_2_expand_relu[0][0]        \n",
            "__________________________________________________________________________________________________\n",
            "block_2_depthwise_BN (BatchNorm (None, 56, 56, 144)  576         block_2_depthwise[0][0]          \n",
            "__________________________________________________________________________________________________\n",
            "block_2_depthwise_relu (ReLU)   (None, 56, 56, 144)  0           block_2_depthwise_BN[0][0]       \n",
            "__________________________________________________________________________________________________\n",
            "block_2_project (Conv2D)        (None, 56, 56, 24)   3456        block_2_depthwise_relu[0][0]     \n",
            "__________________________________________________________________________________________________\n",
            "block_2_project_BN (BatchNormal (None, 56, 56, 24)   96          block_2_project[0][0]            \n",
            "__________________________________________________________________________________________________\n",
            "block_2_add (Add)               (None, 56, 56, 24)   0           block_1_project_BN[0][0]         \n",
            "                                                                 block_2_project_BN[0][0]         \n",
            "__________________________________________________________________________________________________\n",
            "block_3_expand (Conv2D)         (None, 56, 56, 144)  3456        block_2_add[0][0]                \n",
            "__________________________________________________________________________________________________\n",
            "block_3_expand_BN (BatchNormali (None, 56, 56, 144)  576         block_3_expand[0][0]             \n",
            "__________________________________________________________________________________________________\n",
            "block_3_expand_relu (ReLU)      (None, 56, 56, 144)  0           block_3_expand_BN[0][0]          \n",
            "__________________________________________________________________________________________________\n",
            "block_3_pad (ZeroPadding2D)     (None, 57, 57, 144)  0           block_3_expand_relu[0][0]        \n",
            "__________________________________________________________________________________________________\n",
            "block_3_depthwise (DepthwiseCon (None, 28, 28, 144)  1296        block_3_pad[0][0]                \n",
            "__________________________________________________________________________________________________\n",
            "block_3_depthwise_BN (BatchNorm (None, 28, 28, 144)  576         block_3_depthwise[0][0]          \n",
            "__________________________________________________________________________________________________\n",
            "block_3_depthwise_relu (ReLU)   (None, 28, 28, 144)  0           block_3_depthwise_BN[0][0]       \n",
            "__________________________________________________________________________________________________\n",
            "block_3_project (Conv2D)        (None, 28, 28, 32)   4608        block_3_depthwise_relu[0][0]     \n",
            "__________________________________________________________________________________________________\n",
            "block_3_project_BN (BatchNormal (None, 28, 28, 32)   128         block_3_project[0][0]            \n",
            "__________________________________________________________________________________________________\n",
            "block_4_expand (Conv2D)         (None, 28, 28, 192)  6144        block_3_project_BN[0][0]         \n",
            "__________________________________________________________________________________________________\n",
            "block_4_expand_BN (BatchNormali (None, 28, 28, 192)  768         block_4_expand[0][0]             \n",
            "__________________________________________________________________________________________________\n",
            "block_4_expand_relu (ReLU)      (None, 28, 28, 192)  0           block_4_expand_BN[0][0]          \n",
            "__________________________________________________________________________________________________\n",
            "block_4_depthwise (DepthwiseCon (None, 28, 28, 192)  1728        block_4_expand_relu[0][0]        \n",
            "__________________________________________________________________________________________________\n",
            "block_4_depthwise_BN (BatchNorm (None, 28, 28, 192)  768         block_4_depthwise[0][0]          \n",
            "__________________________________________________________________________________________________\n",
            "block_4_depthwise_relu (ReLU)   (None, 28, 28, 192)  0           block_4_depthwise_BN[0][0]       \n",
            "__________________________________________________________________________________________________\n",
            "block_4_project (Conv2D)        (None, 28, 28, 32)   6144        block_4_depthwise_relu[0][0]     \n",
            "__________________________________________________________________________________________________\n",
            "block_4_project_BN (BatchNormal (None, 28, 28, 32)   128         block_4_project[0][0]            \n",
            "__________________________________________________________________________________________________\n",
            "block_4_add (Add)               (None, 28, 28, 32)   0           block_3_project_BN[0][0]         \n",
            "                                                                 block_4_project_BN[0][0]         \n",
            "__________________________________________________________________________________________________\n",
            "block_5_expand (Conv2D)         (None, 28, 28, 192)  6144        block_4_add[0][0]                \n",
            "__________________________________________________________________________________________________\n",
            "block_5_expand_BN (BatchNormali (None, 28, 28, 192)  768         block_5_expand[0][0]             \n",
            "__________________________________________________________________________________________________\n",
            "block_5_expand_relu (ReLU)      (None, 28, 28, 192)  0           block_5_expand_BN[0][0]          \n",
            "__________________________________________________________________________________________________\n",
            "block_5_depthwise (DepthwiseCon (None, 28, 28, 192)  1728        block_5_expand_relu[0][0]        \n",
            "__________________________________________________________________________________________________\n",
            "block_5_depthwise_BN (BatchNorm (None, 28, 28, 192)  768         block_5_depthwise[0][0]          \n",
            "__________________________________________________________________________________________________\n",
            "block_5_depthwise_relu (ReLU)   (None, 28, 28, 192)  0           block_5_depthwise_BN[0][0]       \n",
            "__________________________________________________________________________________________________\n",
            "block_5_project (Conv2D)        (None, 28, 28, 32)   6144        block_5_depthwise_relu[0][0]     \n",
            "__________________________________________________________________________________________________\n",
            "block_5_project_BN (BatchNormal (None, 28, 28, 32)   128         block_5_project[0][0]            \n",
            "__________________________________________________________________________________________________\n",
            "block_5_add (Add)               (None, 28, 28, 32)   0           block_4_add[0][0]                \n",
            "                                                                 block_5_project_BN[0][0]         \n",
            "__________________________________________________________________________________________________\n",
            "block_6_expand (Conv2D)         (None, 28, 28, 192)  6144        block_5_add[0][0]                \n",
            "__________________________________________________________________________________________________\n",
            "block_6_expand_BN (BatchNormali (None, 28, 28, 192)  768         block_6_expand[0][0]             \n",
            "__________________________________________________________________________________________________\n",
            "block_6_expand_relu (ReLU)      (None, 28, 28, 192)  0           block_6_expand_BN[0][0]          \n",
            "__________________________________________________________________________________________________\n",
            "block_6_pad (ZeroPadding2D)     (None, 29, 29, 192)  0           block_6_expand_relu[0][0]        \n",
            "__________________________________________________________________________________________________\n",
            "block_6_depthwise (DepthwiseCon (None, 14, 14, 192)  1728        block_6_pad[0][0]                \n",
            "__________________________________________________________________________________________________\n",
            "block_6_depthwise_BN (BatchNorm (None, 14, 14, 192)  768         block_6_depthwise[0][0]          \n",
            "__________________________________________________________________________________________________\n",
            "block_6_depthwise_relu (ReLU)   (None, 14, 14, 192)  0           block_6_depthwise_BN[0][0]       \n",
            "__________________________________________________________________________________________________\n",
            "block_6_project (Conv2D)        (None, 14, 14, 64)   12288       block_6_depthwise_relu[0][0]     \n",
            "__________________________________________________________________________________________________\n",
            "block_6_project_BN (BatchNormal (None, 14, 14, 64)   256         block_6_project[0][0]            \n",
            "__________________________________________________________________________________________________\n",
            "block_7_expand (Conv2D)         (None, 14, 14, 384)  24576       block_6_project_BN[0][0]         \n",
            "__________________________________________________________________________________________________\n",
            "block_7_expand_BN (BatchNormali (None, 14, 14, 384)  1536        block_7_expand[0][0]             \n",
            "__________________________________________________________________________________________________\n",
            "block_7_expand_relu (ReLU)      (None, 14, 14, 384)  0           block_7_expand_BN[0][0]          \n",
            "__________________________________________________________________________________________________\n",
            "block_7_depthwise (DepthwiseCon (None, 14, 14, 384)  3456        block_7_expand_relu[0][0]        \n",
            "__________________________________________________________________________________________________\n",
            "block_7_depthwise_BN (BatchNorm (None, 14, 14, 384)  1536        block_7_depthwise[0][0]          \n",
            "__________________________________________________________________________________________________\n",
            "block_7_depthwise_relu (ReLU)   (None, 14, 14, 384)  0           block_7_depthwise_BN[0][0]       \n",
            "__________________________________________________________________________________________________\n",
            "block_7_project (Conv2D)        (None, 14, 14, 64)   24576       block_7_depthwise_relu[0][0]     \n",
            "__________________________________________________________________________________________________\n",
            "block_7_project_BN (BatchNormal (None, 14, 14, 64)   256         block_7_project[0][0]            \n",
            "__________________________________________________________________________________________________\n",
            "block_7_add (Add)               (None, 14, 14, 64)   0           block_6_project_BN[0][0]         \n",
            "                                                                 block_7_project_BN[0][0]         \n",
            "__________________________________________________________________________________________________\n",
            "block_8_expand (Conv2D)         (None, 14, 14, 384)  24576       block_7_add[0][0]                \n",
            "__________________________________________________________________________________________________\n",
            "block_8_expand_BN (BatchNormali (None, 14, 14, 384)  1536        block_8_expand[0][0]             \n",
            "__________________________________________________________________________________________________\n",
            "block_8_expand_relu (ReLU)      (None, 14, 14, 384)  0           block_8_expand_BN[0][0]          \n",
            "__________________________________________________________________________________________________\n",
            "block_8_depthwise (DepthwiseCon (None, 14, 14, 384)  3456        block_8_expand_relu[0][0]        \n",
            "__________________________________________________________________________________________________\n",
            "block_8_depthwise_BN (BatchNorm (None, 14, 14, 384)  1536        block_8_depthwise[0][0]          \n",
            "__________________________________________________________________________________________________\n",
            "block_8_depthwise_relu (ReLU)   (None, 14, 14, 384)  0           block_8_depthwise_BN[0][0]       \n",
            "__________________________________________________________________________________________________\n",
            "block_8_project (Conv2D)        (None, 14, 14, 64)   24576       block_8_depthwise_relu[0][0]     \n",
            "__________________________________________________________________________________________________\n",
            "block_8_project_BN (BatchNormal (None, 14, 14, 64)   256         block_8_project[0][0]            \n",
            "__________________________________________________________________________________________________\n",
            "block_8_add (Add)               (None, 14, 14, 64)   0           block_7_add[0][0]                \n",
            "                                                                 block_8_project_BN[0][0]         \n",
            "__________________________________________________________________________________________________\n",
            "block_9_expand (Conv2D)         (None, 14, 14, 384)  24576       block_8_add[0][0]                \n",
            "__________________________________________________________________________________________________\n",
            "block_9_expand_BN (BatchNormali (None, 14, 14, 384)  1536        block_9_expand[0][0]             \n",
            "__________________________________________________________________________________________________\n",
            "block_9_expand_relu (ReLU)      (None, 14, 14, 384)  0           block_9_expand_BN[0][0]          \n",
            "__________________________________________________________________________________________________\n",
            "block_9_depthwise (DepthwiseCon (None, 14, 14, 384)  3456        block_9_expand_relu[0][0]        \n",
            "__________________________________________________________________________________________________\n",
            "block_9_depthwise_BN (BatchNorm (None, 14, 14, 384)  1536        block_9_depthwise[0][0]          \n",
            "__________________________________________________________________________________________________\n",
            "block_9_depthwise_relu (ReLU)   (None, 14, 14, 384)  0           block_9_depthwise_BN[0][0]       \n",
            "__________________________________________________________________________________________________\n",
            "block_9_project (Conv2D)        (None, 14, 14, 64)   24576       block_9_depthwise_relu[0][0]     \n",
            "__________________________________________________________________________________________________\n",
            "block_9_project_BN (BatchNormal (None, 14, 14, 64)   256         block_9_project[0][0]            \n",
            "__________________________________________________________________________________________________\n",
            "block_9_add (Add)               (None, 14, 14, 64)   0           block_8_add[0][0]                \n",
            "                                                                 block_9_project_BN[0][0]         \n",
            "__________________________________________________________________________________________________\n",
            "block_10_expand (Conv2D)        (None, 14, 14, 384)  24576       block_9_add[0][0]                \n",
            "__________________________________________________________________________________________________\n",
            "block_10_expand_BN (BatchNormal (None, 14, 14, 384)  1536        block_10_expand[0][0]            \n",
            "__________________________________________________________________________________________________\n",
            "block_10_expand_relu (ReLU)     (None, 14, 14, 384)  0           block_10_expand_BN[0][0]         \n",
            "__________________________________________________________________________________________________\n",
            "block_10_depthwise (DepthwiseCo (None, 14, 14, 384)  3456        block_10_expand_relu[0][0]       \n",
            "__________________________________________________________________________________________________\n",
            "block_10_depthwise_BN (BatchNor (None, 14, 14, 384)  1536        block_10_depthwise[0][0]         \n",
            "__________________________________________________________________________________________________\n",
            "block_10_depthwise_relu (ReLU)  (None, 14, 14, 384)  0           block_10_depthwise_BN[0][0]      \n",
            "__________________________________________________________________________________________________\n",
            "block_10_project (Conv2D)       (None, 14, 14, 96)   36864       block_10_depthwise_relu[0][0]    \n",
            "__________________________________________________________________________________________________\n",
            "block_10_project_BN (BatchNorma (None, 14, 14, 96)   384         block_10_project[0][0]           \n",
            "__________________________________________________________________________________________________\n",
            "block_11_expand (Conv2D)        (None, 14, 14, 576)  55296       block_10_project_BN[0][0]        \n",
            "__________________________________________________________________________________________________\n",
            "block_11_expand_BN (BatchNormal (None, 14, 14, 576)  2304        block_11_expand[0][0]            \n",
            "__________________________________________________________________________________________________\n",
            "block_11_expand_relu (ReLU)     (None, 14, 14, 576)  0           block_11_expand_BN[0][0]         \n",
            "__________________________________________________________________________________________________\n",
            "block_11_depthwise (DepthwiseCo (None, 14, 14, 576)  5184        block_11_expand_relu[0][0]       \n",
            "__________________________________________________________________________________________________\n",
            "block_11_depthwise_BN (BatchNor (None, 14, 14, 576)  2304        block_11_depthwise[0][0]         \n",
            "__________________________________________________________________________________________________\n",
            "block_11_depthwise_relu (ReLU)  (None, 14, 14, 576)  0           block_11_depthwise_BN[0][0]      \n",
            "__________________________________________________________________________________________________\n",
            "block_11_project (Conv2D)       (None, 14, 14, 96)   55296       block_11_depthwise_relu[0][0]    \n",
            "__________________________________________________________________________________________________\n",
            "block_11_project_BN (BatchNorma (None, 14, 14, 96)   384         block_11_project[0][0]           \n",
            "__________________________________________________________________________________________________\n",
            "block_11_add (Add)              (None, 14, 14, 96)   0           block_10_project_BN[0][0]        \n",
            "                                                                 block_11_project_BN[0][0]        \n",
            "__________________________________________________________________________________________________\n",
            "block_12_expand (Conv2D)        (None, 14, 14, 576)  55296       block_11_add[0][0]               \n",
            "__________________________________________________________________________________________________\n",
            "block_12_expand_BN (BatchNormal (None, 14, 14, 576)  2304        block_12_expand[0][0]            \n",
            "__________________________________________________________________________________________________\n",
            "block_12_expand_relu (ReLU)     (None, 14, 14, 576)  0           block_12_expand_BN[0][0]         \n",
            "__________________________________________________________________________________________________\n",
            "block_12_depthwise (DepthwiseCo (None, 14, 14, 576)  5184        block_12_expand_relu[0][0]       \n",
            "__________________________________________________________________________________________________\n",
            "block_12_depthwise_BN (BatchNor (None, 14, 14, 576)  2304        block_12_depthwise[0][0]         \n",
            "__________________________________________________________________________________________________\n",
            "block_12_depthwise_relu (ReLU)  (None, 14, 14, 576)  0           block_12_depthwise_BN[0][0]      \n",
            "__________________________________________________________________________________________________\n",
            "block_12_project (Conv2D)       (None, 14, 14, 96)   55296       block_12_depthwise_relu[0][0]    \n",
            "__________________________________________________________________________________________________\n",
            "block_12_project_BN (BatchNorma (None, 14, 14, 96)   384         block_12_project[0][0]           \n",
            "__________________________________________________________________________________________________\n",
            "block_12_add (Add)              (None, 14, 14, 96)   0           block_11_add[0][0]               \n",
            "                                                                 block_12_project_BN[0][0]        \n",
            "__________________________________________________________________________________________________\n",
            "block_13_expand (Conv2D)        (None, 14, 14, 576)  55296       block_12_add[0][0]               \n",
            "__________________________________________________________________________________________________\n",
            "block_13_expand_BN (BatchNormal (None, 14, 14, 576)  2304        block_13_expand[0][0]            \n",
            "__________________________________________________________________________________________________\n",
            "block_13_expand_relu (ReLU)     (None, 14, 14, 576)  0           block_13_expand_BN[0][0]         \n",
            "__________________________________________________________________________________________________\n",
            "block_13_pad (ZeroPadding2D)    (None, 15, 15, 576)  0           block_13_expand_relu[0][0]       \n",
            "__________________________________________________________________________________________________\n",
            "block_13_depthwise (DepthwiseCo (None, 7, 7, 576)    5184        block_13_pad[0][0]               \n",
            "__________________________________________________________________________________________________\n",
            "block_13_depthwise_BN (BatchNor (None, 7, 7, 576)    2304        block_13_depthwise[0][0]         \n",
            "__________________________________________________________________________________________________\n",
            "block_13_depthwise_relu (ReLU)  (None, 7, 7, 576)    0           block_13_depthwise_BN[0][0]      \n",
            "__________________________________________________________________________________________________\n",
            "block_13_project (Conv2D)       (None, 7, 7, 160)    92160       block_13_depthwise_relu[0][0]    \n",
            "__________________________________________________________________________________________________\n",
            "block_13_project_BN (BatchNorma (None, 7, 7, 160)    640         block_13_project[0][0]           \n",
            "__________________________________________________________________________________________________\n",
            "block_14_expand (Conv2D)        (None, 7, 7, 960)    153600      block_13_project_BN[0][0]        \n",
            "__________________________________________________________________________________________________\n",
            "block_14_expand_BN (BatchNormal (None, 7, 7, 960)    3840        block_14_expand[0][0]            \n",
            "__________________________________________________________________________________________________\n",
            "block_14_expand_relu (ReLU)     (None, 7, 7, 960)    0           block_14_expand_BN[0][0]         \n",
            "__________________________________________________________________________________________________\n",
            "block_14_depthwise (DepthwiseCo (None, 7, 7, 960)    8640        block_14_expand_relu[0][0]       \n",
            "__________________________________________________________________________________________________\n",
            "block_14_depthwise_BN (BatchNor (None, 7, 7, 960)    3840        block_14_depthwise[0][0]         \n",
            "__________________________________________________________________________________________________\n",
            "block_14_depthwise_relu (ReLU)  (None, 7, 7, 960)    0           block_14_depthwise_BN[0][0]      \n",
            "__________________________________________________________________________________________________\n",
            "block_14_project (Conv2D)       (None, 7, 7, 160)    153600      block_14_depthwise_relu[0][0]    \n",
            "__________________________________________________________________________________________________\n",
            "block_14_project_BN (BatchNorma (None, 7, 7, 160)    640         block_14_project[0][0]           \n",
            "__________________________________________________________________________________________________\n",
            "block_14_add (Add)              (None, 7, 7, 160)    0           block_13_project_BN[0][0]        \n",
            "                                                                 block_14_project_BN[0][0]        \n",
            "__________________________________________________________________________________________________\n",
            "block_15_expand (Conv2D)        (None, 7, 7, 960)    153600      block_14_add[0][0]               \n",
            "__________________________________________________________________________________________________\n",
            "block_15_expand_BN (BatchNormal (None, 7, 7, 960)    3840        block_15_expand[0][0]            \n",
            "__________________________________________________________________________________________________\n",
            "block_15_expand_relu (ReLU)     (None, 7, 7, 960)    0           block_15_expand_BN[0][0]         \n",
            "__________________________________________________________________________________________________\n",
            "block_15_depthwise (DepthwiseCo (None, 7, 7, 960)    8640        block_15_expand_relu[0][0]       \n",
            "__________________________________________________________________________________________________\n",
            "block_15_depthwise_BN (BatchNor (None, 7, 7, 960)    3840        block_15_depthwise[0][0]         \n",
            "__________________________________________________________________________________________________\n",
            "block_15_depthwise_relu (ReLU)  (None, 7, 7, 960)    0           block_15_depthwise_BN[0][0]      \n",
            "__________________________________________________________________________________________________\n",
            "block_15_project (Conv2D)       (None, 7, 7, 160)    153600      block_15_depthwise_relu[0][0]    \n",
            "__________________________________________________________________________________________________\n",
            "block_15_project_BN (BatchNorma (None, 7, 7, 160)    640         block_15_project[0][0]           \n",
            "__________________________________________________________________________________________________\n",
            "block_15_add (Add)              (None, 7, 7, 160)    0           block_14_add[0][0]               \n",
            "                                                                 block_15_project_BN[0][0]        \n",
            "__________________________________________________________________________________________________\n",
            "block_16_expand (Conv2D)        (None, 7, 7, 960)    153600      block_15_add[0][0]               \n",
            "__________________________________________________________________________________________________\n",
            "block_16_expand_BN (BatchNormal (None, 7, 7, 960)    3840        block_16_expand[0][0]            \n",
            "__________________________________________________________________________________________________\n",
            "block_16_expand_relu (ReLU)     (None, 7, 7, 960)    0           block_16_expand_BN[0][0]         \n",
            "__________________________________________________________________________________________________\n",
            "block_16_depthwise (DepthwiseCo (None, 7, 7, 960)    8640        block_16_expand_relu[0][0]       \n",
            "__________________________________________________________________________________________________\n",
            "block_16_depthwise_BN (BatchNor (None, 7, 7, 960)    3840        block_16_depthwise[0][0]         \n",
            "__________________________________________________________________________________________________\n",
            "block_16_depthwise_relu (ReLU)  (None, 7, 7, 960)    0           block_16_depthwise_BN[0][0]      \n",
            "__________________________________________________________________________________________________\n",
            "block_16_project (Conv2D)       (None, 7, 7, 320)    307200      block_16_depthwise_relu[0][0]    \n",
            "__________________________________________________________________________________________________\n",
            "block_16_project_BN (BatchNorma (None, 7, 7, 320)    1280        block_16_project[0][0]           \n",
            "__________________________________________________________________________________________________\n",
            "Conv_1 (Conv2D)                 (None, 7, 7, 1280)   409600      block_16_project_BN[0][0]        \n",
            "__________________________________________________________________________________________________\n",
            "Conv_1_bn (BatchNormalization)  (None, 7, 7, 1280)   5120        Conv_1[0][0]                     \n",
            "__________________________________________________________________________________________________\n",
            "out_relu (ReLU)                 (None, 7, 7, 1280)   0           Conv_1_bn[0][0]                  \n",
            "==================================================================================================\n",
            "Total params: 2,257,984\n",
            "Trainable params: 2,223,872\n",
            "Non-trainable params: 34,112\n",
            "__________________________________________________________________________________________________\n"
          ],
          "name": "stdout"
        }
      ]
    },
    {
      "cell_type": "code",
      "metadata": {
        "colab": {
          "base_uri": "https://localhost:8080/"
        },
        "id": "Vmqul6_j0Mcg",
        "outputId": "1fe3049f-f72b-405c-c4c7-504de1687f85"
      },
      "source": [
        "baseModel.layers"
      ],
      "execution_count": null,
      "outputs": [
        {
          "output_type": "execute_result",
          "data": {
            "text/plain": [
              "[<tensorflow.python.keras.engine.input_layer.InputLayer at 0x7f4c7e2c4090>,\n",
              " <tensorflow.python.keras.layers.convolutional.Conv2D at 0x7f4c7e2ad290>,\n",
              " <tensorflow.python.keras.layers.normalization_v2.BatchNormalization at 0x7f4c7bdb8f10>,\n",
              " <tensorflow.python.keras.layers.advanced_activations.ReLU at 0x7f4c7bd3bfd0>,\n",
              " <tensorflow.python.keras.layers.convolutional.DepthwiseConv2D at 0x7f4c7bda99d0>,\n",
              " <tensorflow.python.keras.layers.normalization_v2.BatchNormalization at 0x7f4c785e2750>,\n",
              " <tensorflow.python.keras.layers.advanced_activations.ReLU at 0x7f4c785e76d0>,\n",
              " <tensorflow.python.keras.layers.convolutional.Conv2D at 0x7f4c7bda9610>,\n",
              " <tensorflow.python.keras.layers.normalization_v2.BatchNormalization at 0x7f4c7bdb8d10>,\n",
              " <tensorflow.python.keras.layers.convolutional.Conv2D at 0x7f4c7860d8d0>,\n",
              " <tensorflow.python.keras.layers.normalization_v2.BatchNormalization at 0x7f4c78609d10>,\n",
              " <tensorflow.python.keras.layers.advanced_activations.ReLU at 0x7f4c78598f90>,\n",
              " <tensorflow.python.keras.layers.convolutional.ZeroPadding2D at 0x7f4c7859c890>,\n",
              " <tensorflow.python.keras.layers.convolutional.DepthwiseConv2D at 0x7f4c7859c950>,\n",
              " <tensorflow.python.keras.layers.normalization_v2.BatchNormalization at 0x7f4c78592c90>,\n",
              " <tensorflow.python.keras.layers.advanced_activations.ReLU at 0x7f4c7bdb8c90>,\n",
              " <tensorflow.python.keras.layers.convolutional.Conv2D at 0x7f4c785afc90>,\n",
              " <tensorflow.python.keras.layers.normalization_v2.BatchNormalization at 0x7f4c786099d0>,\n",
              " <tensorflow.python.keras.layers.convolutional.Conv2D at 0x7f4c785b94d0>,\n",
              " <tensorflow.python.keras.layers.normalization_v2.BatchNormalization at 0x7f4c785c3450>,\n",
              " <tensorflow.python.keras.layers.advanced_activations.ReLU at 0x7f4c785b59d0>,\n",
              " <tensorflow.python.keras.layers.convolutional.DepthwiseConv2D at 0x7f4c785c9990>,\n",
              " <tensorflow.python.keras.layers.normalization_v2.BatchNormalization at 0x7f4c78554d90>,\n",
              " <tensorflow.python.keras.layers.advanced_activations.ReLU at 0x7f4c78557b50>,\n",
              " <tensorflow.python.keras.layers.convolutional.Conv2D at 0x7f4c785ce8d0>,\n",
              " <tensorflow.python.keras.layers.normalization_v2.BatchNormalization at 0x7f4c785ce810>,\n",
              " <tensorflow.python.keras.layers.merge.Add at 0x7f4c7e2b9790>,\n",
              " <tensorflow.python.keras.layers.convolutional.Conv2D at 0x7f4c7855d050>,\n",
              " <tensorflow.python.keras.layers.normalization_v2.BatchNormalization at 0x7f4c78572cd0>,\n",
              " <tensorflow.python.keras.layers.advanced_activations.ReLU at 0x7f4c7855d150>,\n",
              " <tensorflow.python.keras.layers.convolutional.ZeroPadding2D at 0x7f4c7857a810>,\n",
              " <tensorflow.python.keras.layers.convolutional.DepthwiseConv2D at 0x7f4c7857f950>,\n",
              " <tensorflow.python.keras.layers.normalization_v2.BatchNormalization at 0x7f4c7857a650>,\n",
              " <tensorflow.python.keras.layers.advanced_activations.ReLU at 0x7f4c78574ad0>,\n",
              " <tensorflow.python.keras.layers.convolutional.Conv2D at 0x7f4c78510750>,\n",
              " <tensorflow.python.keras.layers.normalization_v2.BatchNormalization at 0x7f4c78514450>,\n",
              " <tensorflow.python.keras.layers.convolutional.Conv2D at 0x7f4c785109d0>,\n",
              " <tensorflow.python.keras.layers.normalization_v2.BatchNormalization at 0x7f4c7851f350>,\n",
              " <tensorflow.python.keras.layers.advanced_activations.ReLU at 0x7f4c7851c910>,\n",
              " <tensorflow.python.keras.layers.convolutional.DepthwiseConv2D at 0x7f4c78587fd0>,\n",
              " <tensorflow.python.keras.layers.normalization_v2.BatchNormalization at 0x7f4c7853bd10>,\n",
              " <tensorflow.python.keras.layers.advanced_activations.ReLU at 0x7f4c78526cd0>,\n",
              " <tensorflow.python.keras.layers.convolutional.Conv2D at 0x7f4c7852b9d0>,\n",
              " <tensorflow.python.keras.layers.normalization_v2.BatchNormalization at 0x7f4c7854cdd0>,\n",
              " <tensorflow.python.keras.layers.merge.Add at 0x7f4c785546d0>,\n",
              " <tensorflow.python.keras.layers.convolutional.Conv2D at 0x7f4c78534f10>,\n",
              " <tensorflow.python.keras.layers.normalization_v2.BatchNormalization at 0x7f4c7853b3d0>,\n",
              " <tensorflow.python.keras.layers.advanced_activations.ReLU at 0x7f4c78510bd0>,\n",
              " <tensorflow.python.keras.layers.convolutional.DepthwiseConv2D at 0x7f4c78510450>,\n",
              " <tensorflow.python.keras.layers.normalization_v2.BatchNormalization at 0x7f4c78514910>,\n",
              " <tensorflow.python.keras.layers.advanced_activations.ReLU at 0x7f4c78587350>,\n",
              " <tensorflow.python.keras.layers.convolutional.Conv2D at 0x7f4c785ce710>,\n",
              " <tensorflow.python.keras.layers.normalization_v2.BatchNormalization at 0x7f4c785677d0>,\n",
              " <tensorflow.python.keras.layers.merge.Add at 0x7f4c7856b190>,\n",
              " <tensorflow.python.keras.layers.convolutional.Conv2D at 0x7f4c78609e10>,\n",
              " <tensorflow.python.keras.layers.normalization_v2.BatchNormalization at 0x7f4c7bdb8550>,\n",
              " <tensorflow.python.keras.layers.advanced_activations.ReLU at 0x7f4c78531090>,\n",
              " <tensorflow.python.keras.layers.convolutional.ZeroPadding2D at 0x7f4c785c9e90>,\n",
              " <tensorflow.python.keras.layers.convolutional.DepthwiseConv2D at 0x7f4c7bdb8510>,\n",
              " <tensorflow.python.keras.layers.normalization_v2.BatchNormalization at 0x7f4c784d6710>,\n",
              " <tensorflow.python.keras.layers.advanced_activations.ReLU at 0x7f4c785fce10>,\n",
              " <tensorflow.python.keras.layers.convolutional.Conv2D at 0x7f4c784e2150>,\n",
              " <tensorflow.python.keras.layers.normalization_v2.BatchNormalization at 0x7f4c784d6810>,\n",
              " <tensorflow.python.keras.layers.convolutional.Conv2D at 0x7f4c784e5ed0>,\n",
              " <tensorflow.python.keras.layers.normalization_v2.BatchNormalization at 0x7f4c784e5dd0>,\n",
              " <tensorflow.python.keras.layers.advanced_activations.ReLU at 0x7f4c784fca90>,\n",
              " <tensorflow.python.keras.layers.convolutional.DepthwiseConv2D at 0x7f4c785c38d0>,\n",
              " <tensorflow.python.keras.layers.normalization_v2.BatchNormalization at 0x7f4c784e27d0>,\n",
              " <tensorflow.python.keras.layers.advanced_activations.ReLU at 0x7f4c7850b690>,\n",
              " <tensorflow.python.keras.layers.convolutional.Conv2D at 0x7f4c7850b310>,\n",
              " <tensorflow.python.keras.layers.normalization_v2.BatchNormalization at 0x7f4c78491250>,\n",
              " <tensorflow.python.keras.layers.merge.Add at 0x7f4c78507c10>,\n",
              " <tensorflow.python.keras.layers.convolutional.Conv2D at 0x7f4c785d2190>,\n",
              " <tensorflow.python.keras.layers.normalization_v2.BatchNormalization at 0x7f4c7849d050>,\n",
              " <tensorflow.python.keras.layers.advanced_activations.ReLU at 0x7f4c78495850>,\n",
              " <tensorflow.python.keras.layers.convolutional.DepthwiseConv2D at 0x7f4c784a2390>,\n",
              " <tensorflow.python.keras.layers.normalization_v2.BatchNormalization at 0x7f4c784b1f50>,\n",
              " <tensorflow.python.keras.layers.advanced_activations.ReLU at 0x7f4c784a26d0>,\n",
              " <tensorflow.python.keras.layers.convolutional.Conv2D at 0x7f4c784a83d0>,\n",
              " <tensorflow.python.keras.layers.normalization_v2.BatchNormalization at 0x7f4c784b9dd0>,\n",
              " <tensorflow.python.keras.layers.merge.Add at 0x7f4c784add90>,\n",
              " <tensorflow.python.keras.layers.convolutional.Conv2D at 0x7f4c784c1790>,\n",
              " <tensorflow.python.keras.layers.normalization_v2.BatchNormalization at 0x7f4c784cd350>,\n",
              " <tensorflow.python.keras.layers.advanced_activations.ReLU at 0x7f4c78458d10>,\n",
              " <tensorflow.python.keras.layers.convolutional.DepthwiseConv2D at 0x7f4c784a2c50>,\n",
              " <tensorflow.python.keras.layers.normalization_v2.BatchNormalization at 0x7f4c78455310>,\n",
              " <tensorflow.python.keras.layers.advanced_activations.ReLU at 0x7f4c7846af90>,\n",
              " <tensorflow.python.keras.layers.convolutional.Conv2D at 0x7f4c7846a7d0>,\n",
              " <tensorflow.python.keras.layers.normalization_v2.BatchNormalization at 0x7f4c7846aa10>,\n",
              " <tensorflow.python.keras.layers.merge.Add at 0x7f4c784b9d90>,\n",
              " <tensorflow.python.keras.layers.convolutional.Conv2D at 0x7f4c784b1890>,\n",
              " <tensorflow.python.keras.layers.normalization_v2.BatchNormalization at 0x7f4c78495b10>,\n",
              " <tensorflow.python.keras.layers.advanced_activations.ReLU at 0x7f4c784cd9d0>,\n",
              " <tensorflow.python.keras.layers.convolutional.DepthwiseConv2D at 0x7f4c784d60d0>,\n",
              " <tensorflow.python.keras.layers.normalization_v2.BatchNormalization at 0x7f4c7855e310>,\n",
              " <tensorflow.python.keras.layers.advanced_activations.ReLU at 0x7f4c784f0f90>,\n",
              " <tensorflow.python.keras.layers.convolutional.Conv2D at 0x7f4c78531990>,\n",
              " <tensorflow.python.keras.layers.normalization_v2.BatchNormalization at 0x7f4c78471650>,\n",
              " <tensorflow.python.keras.layers.convolutional.Conv2D at 0x7f4c784c11d0>,\n",
              " <tensorflow.python.keras.layers.normalization_v2.BatchNormalization at 0x7f4c7851cfd0>,\n",
              " <tensorflow.python.keras.layers.advanced_activations.ReLU at 0x7f4c784f0290>,\n",
              " <tensorflow.python.keras.layers.convolutional.DepthwiseConv2D at 0x7f4c784e5a90>,\n",
              " <tensorflow.python.keras.layers.normalization_v2.BatchNormalization at 0x7f4c7847ab90>,\n",
              " <tensorflow.python.keras.layers.advanced_activations.ReLU at 0x7f4c7848dd10>,\n",
              " <tensorflow.python.keras.layers.convolutional.Conv2D at 0x7f4c7848d590>,\n",
              " <tensorflow.python.keras.layers.normalization_v2.BatchNormalization at 0x7f4c78412450>,\n",
              " <tensorflow.python.keras.layers.merge.Add at 0x7f4c78488e50>,\n",
              " <tensorflow.python.keras.layers.convolutional.Conv2D at 0x7f4c7841e0d0>,\n",
              " <tensorflow.python.keras.layers.normalization_v2.BatchNormalization at 0x7f4c7841e190>,\n",
              " <tensorflow.python.keras.layers.advanced_activations.ReLU at 0x7f4c78412610>,\n",
              " <tensorflow.python.keras.layers.convolutional.DepthwiseConv2D at 0x7f4c78423650>,\n",
              " <tensorflow.python.keras.layers.normalization_v2.BatchNormalization at 0x7f4c784327d0>,\n",
              " <tensorflow.python.keras.layers.advanced_activations.ReLU at 0x7f4c784239d0>,\n",
              " <tensorflow.python.keras.layers.convolutional.Conv2D at 0x7f4c78428c50>,\n",
              " <tensorflow.python.keras.layers.normalization_v2.BatchNormalization at 0x7f4c7842e590>,\n",
              " <tensorflow.python.keras.layers.merge.Add at 0x7f4c78482450>,\n",
              " <tensorflow.python.keras.layers.convolutional.Conv2D at 0x7f4c784435d0>,\n",
              " <tensorflow.python.keras.layers.normalization_v2.BatchNormalization at 0x7f4c784408d0>,\n",
              " <tensorflow.python.keras.layers.advanced_activations.ReLU at 0x7f4c783d9d50>,\n",
              " <tensorflow.python.keras.layers.convolutional.ZeroPadding2D at 0x7f4c783d9e50>,\n",
              " <tensorflow.python.keras.layers.convolutional.DepthwiseConv2D at 0x7f4c783d3c50>,\n",
              " <tensorflow.python.keras.layers.normalization_v2.BatchNormalization at 0x7f4c7855e090>,\n",
              " <tensorflow.python.keras.layers.advanced_activations.ReLU at 0x7f4c783eb210>,\n",
              " <tensorflow.python.keras.layers.convolutional.Conv2D at 0x7f4c783d9b10>,\n",
              " <tensorflow.python.keras.layers.normalization_v2.BatchNormalization at 0x7f4c783d3dd0>,\n",
              " <tensorflow.python.keras.layers.convolutional.Conv2D at 0x7f4c78404690>,\n",
              " <tensorflow.python.keras.layers.normalization_v2.BatchNormalization at 0x7f4c78404f50>,\n",
              " <tensorflow.python.keras.layers.advanced_activations.ReLU at 0x7f4c78404b50>,\n",
              " <tensorflow.python.keras.layers.convolutional.DepthwiseConv2D at 0x7f4c783916d0>,\n",
              " <tensorflow.python.keras.layers.normalization_v2.BatchNormalization at 0x7f4c783f9fd0>,\n",
              " <tensorflow.python.keras.layers.advanced_activations.ReLU at 0x7f4c78391750>,\n",
              " <tensorflow.python.keras.layers.convolutional.Conv2D at 0x7f4c78440c90>,\n",
              " <tensorflow.python.keras.layers.normalization_v2.BatchNormalization at 0x7f4c783d9c10>,\n",
              " <tensorflow.python.keras.layers.merge.Add at 0x7f4c783e6490>,\n",
              " <tensorflow.python.keras.layers.convolutional.Conv2D at 0x7f4c7844b110>,\n",
              " <tensorflow.python.keras.layers.normalization_v2.BatchNormalization at 0x7f4c783ebed0>,\n",
              " <tensorflow.python.keras.layers.advanced_activations.ReLU at 0x7f4c78432250>,\n",
              " <tensorflow.python.keras.layers.convolutional.DepthwiseConv2D at 0x7f4c7848d150>,\n",
              " <tensorflow.python.keras.layers.normalization_v2.BatchNormalization at 0x7f4c7841e690>,\n",
              " <tensorflow.python.keras.layers.advanced_activations.ReLU at 0x7f4c7851f250>,\n",
              " <tensorflow.python.keras.layers.convolutional.Conv2D at 0x7f4c7850ba90>,\n",
              " <tensorflow.python.keras.layers.normalization_v2.BatchNormalization at 0x7f4c78398f90>,\n",
              " <tensorflow.python.keras.layers.merge.Add at 0x7f4c7844b690>,\n",
              " <tensorflow.python.keras.layers.convolutional.Conv2D at 0x7f4c783a6310>,\n",
              " <tensorflow.python.keras.layers.normalization_v2.BatchNormalization at 0x7f4c783a6250>,\n",
              " <tensorflow.python.keras.layers.advanced_activations.ReLU at 0x7f4c783a4b10>,\n",
              " <tensorflow.python.keras.layers.convolutional.DepthwiseConv2D at 0x7f4c7847ab50>,\n",
              " <tensorflow.python.keras.layers.normalization_v2.BatchNormalization at 0x7f4c783ab650>,\n",
              " <tensorflow.python.keras.layers.advanced_activations.ReLU at 0x7f4c783adad0>,\n",
              " <tensorflow.python.keras.layers.convolutional.Conv2D at 0x7f4c783b1490>,\n",
              " <tensorflow.python.keras.layers.normalization_v2.BatchNormalization at 0x7f4c783ccc90>,\n",
              " <tensorflow.python.keras.layers.convolutional.Conv2D at 0x7f4c783ccbd0>,\n",
              " <tensorflow.python.keras.layers.normalization_v2.BatchNormalization at 0x7f4c783ccb50>,\n",
              " <tensorflow.python.keras.layers.advanced_activations.ReLU at 0x7f4c783c3f10>]"
            ]
          },
          "metadata": {
            "tags": []
          },
          "execution_count": 17
        }
      ]
    },
    {
      "cell_type": "code",
      "metadata": {
        "id": "8t9muuDL0Pbx"
      },
      "source": [
        "for layers in baseModel.layers:\n",
        "  baseModel.trainable = False\n"
      ],
      "execution_count": null,
      "outputs": []
    },
    {
      "cell_type": "code",
      "metadata": {
        "id": "wTOw5rof0TSL"
      },
      "source": [
        "#Compiling the model\n",
        "opt = Adam(lr = init_lr, decay = init_lr/epochs)\n",
        "model.compile(optimizer=opt, loss = 'binary_crossentropy',metrics = ['accuracy'])"
      ],
      "execution_count": null,
      "outputs": []
    },
    {
      "cell_type": "code",
      "metadata": {
        "colab": {
          "base_uri": "https://localhost:8080/"
        },
        "id": "arnTxnVM0XDz",
        "outputId": "7fe3d185-411b-40c0-e138-94443af76883"
      },
      "source": [
        "#Fitting the model\n",
        "history = model.fit(train_generator.flow(train_x,train_y,batch_size=bs),\n",
        "                    steps_per_epoch = len(train_x)//bs,\n",
        "                    validation_data = (test_x,test_y),\n",
        "                    validation_steps = len(test_x)//bs,\n",
        "                    epochs = epochs,\n",
        "                    verbose = 1\n",
        "                    )"
      ],
      "execution_count": null,
      "outputs": [
        {
          "output_type": "stream",
          "text": [
            "Epoch 1/20\n",
            "32/32 [==============================] - 60s 2s/step - loss: 0.7364 - accuracy: 0.6136 - val_loss: 0.2812 - val_accuracy: 0.9658\n",
            "Epoch 2/20\n",
            "32/32 [==============================] - 54s 2s/step - loss: 0.2916 - accuracy: 0.9231 - val_loss: 0.1457 - val_accuracy: 0.9696\n",
            "Epoch 3/20\n",
            "32/32 [==============================] - 55s 2s/step - loss: 0.1633 - accuracy: 0.9727 - val_loss: 0.1013 - val_accuracy: 0.9734\n",
            "Epoch 4/20\n",
            "32/32 [==============================] - 55s 2s/step - loss: 0.1206 - accuracy: 0.9743 - val_loss: 0.0784 - val_accuracy: 0.9734\n",
            "Epoch 5/20\n",
            "32/32 [==============================] - 55s 2s/step - loss: 0.0852 - accuracy: 0.9913 - val_loss: 0.0664 - val_accuracy: 0.9734\n",
            "Epoch 6/20\n",
            "32/32 [==============================] - 55s 2s/step - loss: 0.0703 - accuracy: 0.9835 - val_loss: 0.0563 - val_accuracy: 0.9772\n",
            "Epoch 7/20\n",
            "32/32 [==============================] - 55s 2s/step - loss: 0.0701 - accuracy: 0.9830 - val_loss: 0.0526 - val_accuracy: 0.9772\n",
            "Epoch 8/20\n",
            "32/32 [==============================] - 55s 2s/step - loss: 0.0584 - accuracy: 0.9850 - val_loss: 0.0491 - val_accuracy: 0.9772\n",
            "Epoch 9/20\n",
            "32/32 [==============================] - 54s 2s/step - loss: 0.0596 - accuracy: 0.9913 - val_loss: 0.0452 - val_accuracy: 0.9772\n",
            "Epoch 10/20\n",
            "32/32 [==============================] - 54s 2s/step - loss: 0.0498 - accuracy: 0.9958 - val_loss: 0.0430 - val_accuracy: 0.9772\n",
            "Epoch 11/20\n",
            "32/32 [==============================] - 54s 2s/step - loss: 0.0453 - accuracy: 0.9887 - val_loss: 0.0409 - val_accuracy: 0.9810\n",
            "Epoch 12/20\n",
            "32/32 [==============================] - 54s 2s/step - loss: 0.0336 - accuracy: 0.9949 - val_loss: 0.0399 - val_accuracy: 0.9772\n",
            "Epoch 13/20\n",
            "32/32 [==============================] - 54s 2s/step - loss: 0.0424 - accuracy: 0.9918 - val_loss: 0.0381 - val_accuracy: 0.9772\n",
            "Epoch 14/20\n",
            "32/32 [==============================] - 54s 2s/step - loss: 0.0301 - accuracy: 0.9939 - val_loss: 0.0361 - val_accuracy: 0.9810\n",
            "Epoch 15/20\n",
            "32/32 [==============================] - 54s 2s/step - loss: 0.0343 - accuracy: 0.9926 - val_loss: 0.0358 - val_accuracy: 0.9772\n",
            "Epoch 16/20\n",
            "32/32 [==============================] - 54s 2s/step - loss: 0.0280 - accuracy: 0.9966 - val_loss: 0.0342 - val_accuracy: 0.9810\n",
            "Epoch 17/20\n",
            "32/32 [==============================] - 54s 2s/step - loss: 0.0270 - accuracy: 0.9920 - val_loss: 0.0331 - val_accuracy: 0.9810\n",
            "Epoch 18/20\n",
            "32/32 [==============================] - 54s 2s/step - loss: 0.0216 - accuracy: 0.9945 - val_loss: 0.0330 - val_accuracy: 0.9810\n",
            "Epoch 19/20\n",
            "32/32 [==============================] - 54s 2s/step - loss: 0.0255 - accuracy: 0.9925 - val_loss: 0.0314 - val_accuracy: 0.9810\n",
            "Epoch 20/20\n",
            "32/32 [==============================] - 54s 2s/step - loss: 0.0208 - accuracy: 0.9960 - val_loss: 0.0300 - val_accuracy: 0.9810\n"
          ],
          "name": "stdout"
        }
      ]
    },
    {
      "cell_type": "code",
      "metadata": {
        "colab": {
          "base_uri": "https://localhost:8080/"
        },
        "id": "9YQXvvf10Zzo",
        "outputId": "b9a4b0d4-df49-4358-bf66-c4c19d91a75a"
      },
      "source": [
        "#\"\"\"## Saving our model\"\"\"\n",
        "model.save(\"/content/drive/MyDrive/mesked_dataset/models/\")  # as .pb\n",
        "\n",
        "model.save(\"/content/drive/MyDrive/mesked_dataset/models/My_Model.h5\")\n",
        "print(\"ok\") "
      ],
      "execution_count": null,
      "outputs": [
        {
          "output_type": "stream",
          "text": [
            "INFO:tensorflow:Assets written to: /content/drive/MyDrive/mesked_dataset/models/assets\n",
            "ok\n"
          ],
          "name": "stdout"
        }
      ]
    },
    {
      "cell_type": "code",
      "metadata": {
        "id": "_eOvj3Sa6Img"
      },
      "source": [
        "acc = history.history['accuracy']\n",
        "val_acc = history.history['val_accuracy']\n",
        "loss = history.history['loss']\n",
        "val_loss = history.history['val_loss']"
      ],
      "execution_count": null,
      "outputs": []
    },
    {
      "cell_type": "code",
      "metadata": {
        "id": "J_M871rk69h1"
      },
      "source": [
        "epochs = range(len(acc))"
      ],
      "execution_count": null,
      "outputs": []
    },
    {
      "cell_type": "code",
      "metadata": {
        "colab": {
          "base_uri": "https://localhost:8080/"
        },
        "id": "L9M5-WPL6_-M",
        "outputId": "71a40fbe-5f68-441f-e2ab-9910f9f70275"
      },
      "source": [
        "# Plotting our performance\"\"\"\n",
        "plt.plot(epochs, acc, 'b', label='Training accuracy')\n",
        "plt.plot(epochs, val_acc, 'r', label='Validation accuracy')\n",
        "plt.title('Training and validation accuracy')\n",
        "plt.legend()\n"
      ],
      "execution_count": null,
      "outputs": [
        {
          "output_type": "execute_result",
          "data": {
            "text/plain": [
              "<matplotlib.legend.Legend at 0x7f4c715dab90>"
            ]
          },
          "metadata": {
            "tags": []
          },
          "execution_count": 24
        },
        {
          "output_type": "display_data",
          "data": {
            "image/png": "[encoded data removed]",
            "text/plain": [
              "<Figure size 432x288 with 1 Axes>"
            ]
          },
          "metadata": {
            "tags": [],
            "needs_background": "light"
          }
        }
      ]
    },
    {
      "cell_type": "code",
      "metadata": {
        "colab": {
          "base_uri": "https://localhost:8080/"
        },
        "id": "S-TdKqLF7ESl",
        "outputId": "e0415271-e992-434a-b1cf-0b0b3ea1a6f3"
      },
      "source": [
        "plt.figure()"
      ],
      "execution_count": null,
      "outputs": [
        {
          "output_type": "execute_result",
          "data": {
            "text/plain": [
              "<Figure size 432x288 with 0 Axes>"
            ]
          },
          "metadata": {
            "tags": []
          },
          "execution_count": 25
        },
        {
          "output_type": "display_data",
          "data": {
            "text/plain": [
              "<Figure size 432x288 with 0 Axes>"
            ]
          },
          "metadata": {
            "tags": []
          }
        }
      ]
    },
    {
      "cell_type": "code",
      "metadata": {
        "colab": {
          "base_uri": "https://localhost:8080/"
        },
        "id": "Kx8g8Zbi7HtV",
        "outputId": "cda345c2-58cf-4ae2-8368-4db0a25fca87"
      },
      "source": [
        "plt.plot(epochs, loss, 'b', label='Training Loss')\n",
        "plt.plot(epochs, val_loss, 'r', label='Validation Loss')\n",
        "plt.title('Training and validation loss')\n",
        "plt.legend()\n",
        "\n",
        "plt.show()"
      ],
      "execution_count": null,
      "outputs": [
        {
          "output_type": "display_data",
          "data": {
            "image/png": "[encoded data removed]",
            "text/plain": [
              "<Figure size 432x288 with 1 Axes>"
            ]
          },
          "metadata": {
            "tags": [],
            "needs_background": "light"
          }
        }
      ]
    }
  ]
}